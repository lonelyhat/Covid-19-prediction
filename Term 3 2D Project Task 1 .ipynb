{
 "cells": [
  {
   "cell_type": "code",
   "execution_count": 1,
   "metadata": {},
   "outputs": [],
   "source": [
    "import pandas as pd\n",
    "import seaborn as sns\n",
    "import matplotlib.pyplot as plt\n",
    "import numpy as np\n",
    "import os"
   ]
  },
  {
   "cell_type": "code",
   "execution_count": 2,
   "metadata": {},
   "outputs": [],
   "source": [
    "df=pd.read_csv('https://covid.ourworldindata.org/data/owid-covid-data.csv',dtype='unicode')\n",
    "columns_from_main=['location','date','total_cases','new_cases','new_deaths','new_vaccinations']"
   ]
  },
  {
   "cell_type": "markdown",
   "metadata": {},
   "source": [
    "# Filtering the data\n",
    "\n",
    "\n",
    "\n",
    "<p>1) Last 180 days for each of the 180 countries <br>\n",
    "    2) Selecting 20 countries worth of data <br>\n",
    "3) Removing all the rows with NaN values </p>\n",
    "\n"
   ]
  },
  {
   "cell_type": "code",
   "execution_count": 3,
   "metadata": {},
   "outputs": [
    {
     "name": "stdout",
     "output_type": "stream",
     "text": [
      "14574\n",
      "The locations under observation are:\n",
      "        location       date total_cases new_cases new_deaths new_vaccinations\n",
      "25321     China 2021-05-13     90864.0       7.0        0.0       12638000.0\n",
      "25322     China 2021-05-14     90878.0      14.0        0.0       13723000.0\n",
      "25323     China 2021-05-15     90896.0      18.0        0.0       12354000.0\n",
      "25324     China 2021-05-16     90922.0      26.0        0.0       13951000.0\n",
      "25325     China 2021-05-17     90944.0      22.0        0.0       15053000.0\n",
      "...         ...        ...         ...       ...        ...              ...\n",
      "132133  Vietnam 2021-10-31    921122.0    5519.0       53.0         554499.0\n",
      "132134  Vietnam 2021-11-01    926720.0    5598.0       48.0        1201589.0\n",
      "132135  Vietnam 2021-11-02    932357.0    5637.0       74.0         959435.0\n",
      "132136  Vietnam 2021-11-03    939463.0    7106.0       78.0         793175.0\n",
      "132137  Vietnam 2021-11-04    946043.0    6580.0       59.0        1435734.0\n",
      "\n",
      "[2429 rows x 6 columns]\n"
     ]
    }
   ],
   "source": [
    "\n",
    "df['date']=pd.to_datetime(df['date'])\n",
    "mask=(df['date']>='5/13/2021')&(df['date']<='11/8/2021')\n",
    "df_location=df.loc[(mask)&((df['location'] == 'Singapore')|(df['location'] =='South Korea')|(df['location'] =='India')|(df['location'] =='Philippines')|(df['location'] =='Japan')|(df['location'] =='Vietnam')|(df['location']=='United Kingdom')|(df['location']=='Pakistan')|(df['location']=='Germany')|(df['location']=='Nigeria')|(df['location']=='Italy')|(df['location']=='China')|(df['location']=='Indonesia')|(df['location']=='Thailand')|(df['location']=='United Arab Emirates')|(df['location']=='Portugal')|(df['location']=='Cuba')|(df['location']=='Ethiopia')),columns_from_main]\n",
    "df_location.dropna(subset=['new_vaccinations'],inplace=True)\n",
    "\n",
    "print(df_location.size)\n",
    "print(\"The locations under observation are:\\n\",df_location)"
   ]
  },
  {
   "cell_type": "markdown",
   "metadata": {},
   "source": [
    "# Collections of Functions"
   ]
  },
  {
   "cell_type": "code",
   "execution_count": 4,
   "metadata": {},
   "outputs": [],
   "source": [
    "#This part is from the cohort problem set:\n",
    "def get_features_targets(df, feature_names, target_names):\n",
    "    df_feature=df[feature_names]\n",
    "    df_target=df[target_names]\n",
    "    return df_feature, df_target\n",
    "\n",
    "def normalize_z(df):\n",
    "    return (df-df.mean())/df.std()\n",
    "\n",
    "def prepare_feature(df_feature):\n",
    "    df_feature=df_feature.to_numpy()\n",
    "    c_ones=np.ones((df_feature.shape[0],1))\n",
    "    df_feature=np.hstack((c_ones,df_feature))\n",
    "    return df_feature\n",
    "\n",
    "def prepare_target(df_target):\n",
    "    df_target=df_target.to_numpy()\n",
    "    return df_target\n",
    "\n",
    "def predict(df_feature, beta):\n",
    "    X=prepare_feature(normalize_z(df_feature))\n",
    "    return predict_norm(X,beta)\n",
    "\n",
    "def predict_norm(X, beta):\n",
    "    return np.matmul(X,beta)\n",
    "\n",
    "def split_data(df_feature, df_target, random_state=None, test_size=0.5):\n",
    "    indexes=df_feature.index\n",
    "    if random_state!=None:\n",
    "        np.random.seed(random_state)\n",
    "    num_rows = len(indexes)\n",
    "    k = int(test_size * num_rows)\n",
    "    test_indices = np.random.choice(indexes, k, replace = False)\n",
    "    train_indices = set(indexes) - set(test_indices)\n",
    "    \n",
    "    df_feature_train = df_feature.loc[train_indices, :]\n",
    "    df_feature_test = df_feature.loc[test_indices, :]\n",
    "    df_target_train = df_target.loc[train_indices, :]\n",
    "    df_target_test = df_target.loc[test_indices, :]\n",
    "    return df_feature_train, df_feature_test, df_target_train, df_target_test\n",
    "  \n",
    "def r2_score(y, ypred):\n",
    "    SS_res=np.sum((y-ypred)**2)\n",
    "    SS_tot=np.sum((y-np.mean(y))**2)\n",
    "    return (1-(SS_res/SS_tot))\n",
    "\n",
    "def mean_squared_error(target, pred):\n",
    "    return ((np.sum(target-pred)**2)/(target.shape[0]))\n",
    "\n",
    "def gradient_descent(X, y, beta, alpha, num_iters):\n",
    "    n=X.shape[0]\n",
    "    J_storage=np.zeros((num_iters,1))\n",
    "    for i in range(num_iters):\n",
    "        derivative=np.matmul(X.T,(np.matmul(X,beta)-y))\n",
    "        beta=beta-(alpha/n*derivative)\n",
    "        J_storage[i]=compute_cost(X,y,beta)\n",
    "    return beta, J_storage\n",
    "\n",
    "def compute_cost(X, y, beta):\n",
    "    J = 0\n",
    "    m = X.shape[0]\n",
    "    error = np.matmul(X,beta) - y\n",
    "    error_sq = np.matmul(error.T, error)\n",
    "    plt.scatter(X[:,1], y)\n",
    "    J = 1/(2*m) * error_sq\n",
    "    J = J[0][0]\n",
    "    return J"
   ]
  },
  {
   "cell_type": "markdown",
   "metadata": {},
   "source": [
    "# Splitting data\n",
    "### Target: New Deaths\n",
    "### Feature: New Cases and New Vaccinations"
   ]
  },
  {
   "cell_type": "code",
   "execution_count": 6,
   "metadata": {},
   "outputs": [
    {
     "name": "stdout",
     "output_type": "stream",
     "text": [
      "[[-7.99634038]\n",
      " [-7.74946254]\n",
      " [-7.40821049]\n",
      " ...\n",
      " [-6.17709018]\n",
      " [-1.73274032]\n",
      " [-9.66055656]]\n"
     ]
    },
    {
     "data": {
      "image/png": "[encoded data removed]",
      "text/plain": [
       "<Figure size 432x288 with 1 Axes>"
      ]
     },
     "metadata": {
      "needs_background": "light"
     },
     "output_type": "display_data"
    }
   ],
   "source": [
    "#this part is to extract the data from df_location that is relevant to the multiple linear regression model\n",
    "#convert the string value to a number:\n",
    "#\n",
    "df_location[\"new_deaths\"]=pd.to_numeric(df_location[\"new_deaths\"], downcast='integer')\n",
    "df_location[\"new_cases\"]=pd.to_numeric(df_location[\"new_cases\"], downcast='integer')\n",
    "df_location['new_vaccinations']=pd.to_numeric(df_location['new_vaccinations'], downcast='integer')\n",
    "#\n",
    "features=['new_cases','new_vaccinations']\n",
    "target=['new_deaths']\n",
    "df_features,df_target=get_features_targets(df_location,features,target)\n",
    "df_features_train, df_features_test, df_target_train, df_target_test = split_data(df_features,df_target,random_state=100,test_size=0.3)\n",
    "df_features_train_z=normalize_z(df_features_train)\n",
    "X=prepare_feature(df_features_train_z)\n",
    "target=prepare_target(df_target_train)\n",
    "\n",
    "iterations=1500\n",
    "alpha=0.01\n",
    "beta=np.zeros((3,1))\n",
    "\n",
    "beta,J_storage=gradient_descent(X,target,beta,alpha,iterations)\n",
    "pred=predict(df_features_train_z,beta)\n",
    "print (pred)\n",
    "\n",
    "\n"
   ]
  },
  {
   "cell_type": "markdown",
   "metadata": {},
   "source": [
    "# Splitting data\n",
    "### Target: New Deaths\n",
    "### Feature: Total Vaccinations/Total Population and Median Age"
   ]
  },
  {
   "cell_type": "code",
   "execution_count": null,
   "metadata": {},
   "outputs": [],
   "source": [
    "#this part is to extract the data from df_location that is relevant to the multiple linear regression model\n",
    "#convert the string value to a number:\n",
    "#\n",
    "df_location[\"new_deaths\"]=pd.to_numeric(df_location[\"new_deaths\"], downcast='integer')\n",
    "df_location[\"median_age\"]=pd.to_numeric(df_location[\"median_age\"], downcast='integer')\n",
    "df_location['new_vaccinations']=pd.to_numeric(df_location['new_vaccinations'], downcast='integer')\n",
    "#\n",
    "features=['new_cases','new_vaccinations']\n",
    "target=['new_deaths']\n",
    "df_features,df_target=get_features_targets(df_location,features,target)\n",
    "df_features_train, df_features_test, df_target_train, df_target_test = split_data(df_features,df_target,random_state=100,test_size=0.3)\n",
    "df_features_train_z=normalize_z(df_features_train)\n",
    "X=prepare_feature(df_features_train_z)\n",
    "target=prepare_target(df_target_train)\n",
    "\n",
    "iterations=1500\n",
    "alpha=0.01\n",
    "beta=np.zeros((3,1))\n",
    "\n",
    "beta,J_storage=gradient_descent(X,target,beta,alpha,iterations)\n",
    "pred=predict(df_features_train_z,beta)\n",
    "print (pred)\n",
    "\n",
    "\n"
   ]
  },
  {
   "cell_type": "markdown",
   "metadata": {},
   "source": [
    "# Adjusted R-Squared Value from R-Squared Value\n",
    "### Adjusted R2 = 1 – [(1-R2)*(n-1)/(n-k-1)] = 0.5114271062684714\n",
    "\n",
    "We chose Adjusted R-squared value due to it taking into accounts the number of predictor variables in Multiple Linear Regression."
   ]
  },
  {
   "cell_type": "code",
   "execution_count": 22,
   "metadata": {},
   "outputs": [
    {
     "name": "stdout",
     "output_type": "stream",
     "text": [
      "0.5114271062684714\n"
     ]
    }
   ],
   "source": [
    "def r2_score(y, ypred):\n",
    "    \n",
    "    \n",
    "    ymean=np.mean(y)\n",
    "    \n",
    "    SS_res=np.sum((y-ypred)**2)\n",
    "    \n",
    "    SS_tot=np.sum((y-ymean)**2)\n",
    "    return (1-(SS_res/SS_tot))\n",
    "\n",
    "the_target = prepare_target(df_target_test)\n",
    "pred = predict(df_features_test, beta)\n",
    "r2= r2_score(the_target, pred)\n",
    "\n",
    "\n",
    "Adjusted_R2= 1-((1-r2)*(len(df_target)-1)/(len(df_target)-df_features.shape[1]-1))\n",
    "\n",
    "print(Adjusted_R2)\n"
   ]
  },
  {
   "cell_type": "code",
   "execution_count": null,
   "metadata": {},
   "outputs": [],
   "source": []
  }
 ],
 "metadata": {
  "kernelspec": {
   "display_name": "Python 3",
   "language": "python",
   "name": "python3"
  },
  "language_info": {
   "codemirror_mode": {
    "name": "ipython",
    "version": 3
   },
   "file_extension": ".py",
   "mimetype": "text/x-python",
   "name": "python",
   "nbconvert_exporter": "python",
   "pygments_lexer": "ipython3",
   "version": "3.8.8"
  }
 },
 "nbformat": 4,
 "nbformat_minor": 4
}
