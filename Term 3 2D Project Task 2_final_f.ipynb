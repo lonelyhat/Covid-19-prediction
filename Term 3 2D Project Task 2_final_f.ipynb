{
 "cells": [
  {
   "cell_type": "code",
   "execution_count": 10,
   "metadata": {},
   "outputs": [],
   "source": [
    "import pandas as pd\n",
    "import seaborn as sns\n",
    "import matplotlib.pyplot as plt\n",
    "import numpy as np\n",
    "import os\n",
    "import math"
   ]
  },
  {
   "cell_type": "code",
   "execution_count": 11,
   "metadata": {},
   "outputs": [],
   "source": [
    "df=pd.read_csv('https://covid.ourworldindata.org/data/owid-covid-data.csv',dtype='unicode')\n",
    "columns_from_main=['location','date','new_cases','total_vaccinations',\"population\"]"
   ]
  },
  {
   "cell_type": "markdown",
   "metadata": {},
   "source": [
    "# Filtering the data\n",
    "\n",
    "\n",
    "\n",
    "<p>1) Recent 180 days data <br>\n",
    "    2) Selecting countries' data <br>\n",
    "3) Removing all the rows with NaN values and negative values</p>"
   ]
  },
  {
   "cell_type": "code",
   "execution_count": 12,
   "metadata": {},
   "outputs": [
    {
     "name": "stdout",
     "output_type": "stream",
     "text": [
      "location                      object\n",
      "date                  datetime64[ns]\n",
      "new_cases                      int32\n",
      "total_vaccinations             int32\n",
      "population                     int32\n",
      "dtype: object\n",
      "(172, 5)\n",
      "The locations under observation are:\n",
      "       location       date  new_cases  total_vaccinations  population\n",
      "56064    India 2021-05-13     343144           178361846  1393409033\n",
      "56065    India 2021-05-14     326098           179646413  1393409033\n",
      "56066    India 2021-05-15     311170           181544536  1393409033\n",
      "56067    India 2021-05-16     281386           182251006  1393409033\n",
      "56068    India 2021-05-17     263533           183817204  1393409033\n",
      "...        ...        ...        ...                 ...         ...\n",
      "56239    India 2021-11-04      12729          1077107323  1393409033\n",
      "56240    India 2021-11-05      10929          1077793623  1393409033\n",
      "56241    India 2021-11-06      10826          1080177477  1393409033\n",
      "56242    India 2021-11-07      11478          1083142285  1393409033\n",
      "56243    India 2021-11-08      10126          1088236037  1393409033\n",
      "\n",
      "[172 rows x 5 columns]\n"
     ]
    }
   ],
   "source": [
    "#Import data from website\n",
    "df=pd.read_csv('https://covid.ourworldindata.org/data/owid-covid-data.csv',dtype='unicode')\n",
    "\n",
    "#Columns we are interested in \n",
    "columns_from_main=['location','date','new_cases','total_vaccinations',\"population\"]\n",
    "\n",
    "#Set the range of date to last 180 days\n",
    "df['date']=pd.to_datetime(df['date'])\n",
    "mask=(df['date']>='5/13/2021')&(df['date']<='11/8/2021')\n",
    "\n",
    "#Set the location, i.e. which country we are modeling \n",
    "location = \"India\"\n",
    "df_location=df.loc[(mask)&(df['location']==location),columns_from_main]\n",
    "\n",
    "#Get rid of NA values \n",
    "df_location.dropna(subset=['total_vaccinations'],inplace=True)\n",
    "df_location.dropna(subset=['population'],inplace=True)\n",
    "df_location.dropna(subset=['new_cases'],inplace=True)\n",
    "\n",
    "#convert the string value to a number:\n",
    "df_location[\"new_cases\"]=pd.to_numeric(df_location[\"new_cases\"], downcast='integer')\n",
    "df_location['total_vaccinations']=pd.to_numeric(df_location['total_vaccinations'], downcast='integer')\n",
    "df_location['population']=pd.to_numeric(df_location['population'], downcast='integer')\n",
    "\n",
    "#Data\n",
    "print(df_location.dtypes)\n",
    "mask=(df_location[\"new_cases\"] > 0)&(df_location['total_vaccinations'] > 0)\n",
    "df_location=df_location.loc[mask,columns_from_main]\n",
    "print(df_location.shape)\n",
    "print(\"The locations under observation are:\\n\",df_location)\n"
   ]
  },
  {
   "cell_type": "markdown",
   "metadata": {},
   "source": []
  },
  {
   "cell_type": "markdown",
   "metadata": {},
   "source": [
    "# Collections of Functions"
   ]
  },
  {
   "cell_type": "code",
   "execution_count": 13,
   "metadata": {},
   "outputs": [],
   "source": [
    "def get_features_targets(df, feature_names, target_names):\n",
    "    df_feature=df[feature_names]\n",
    "    df_target=df[target_names]\n",
    "    return df_feature, df_target\n",
    "\n",
    "def normalize_z(df):\n",
    "    return (df-df.mean())/df.std()\n",
    "\n",
    "def prepare_feature(df_feature):\n",
    "    df_feature=df_feature.to_numpy()\n",
    "    c_ones=np.ones((df_feature.shape[0],1))\n",
    "    df_feature=np.hstack((c_ones,df_feature))\n",
    "    return df_feature\n",
    "\n",
    "def prepare_target(df_target):\n",
    "    df_target=df_target.to_numpy()\n",
    "    return df_target\n",
    "\n",
    "def predict(df_feature, beta):\n",
    "    X=prepare_feature(normalize_z(df_feature))\n",
    "    return predict_norm(X,beta)\n",
    "\n",
    "def predict_norm(X, beta):\n",
    "    return np.matmul(X,beta)\n",
    "\n",
    "def split_data(df_feature, df_target, random_state=None, test_size=0.5):\n",
    "    indexes=df_feature.index\n",
    "    if random_state!=None:\n",
    "        np.random.seed(random_state)\n",
    "    num_rows = len(indexes)\n",
    "    k = int(test_size * num_rows)\n",
    "    test_indices = np.random.choice(indexes, k, replace = False)\n",
    "    train_indices = set(indexes) - set(test_indices)\n",
    "    \n",
    "    df_feature_train = df_feature.loc[train_indices, :]\n",
    "    df_feature_test = df_feature.loc[test_indices, :]\n",
    "    df_target_train = df_target.loc[train_indices, :]\n",
    "    df_target_test = df_target.loc[test_indices, :]\n",
    "    return df_feature_train, df_feature_test, df_target_train, df_target_test\n",
    "  \n",
    "def r2_score(y, ypred):\n",
    "    actual_mean = np.mean(y)\n",
    "    # since y, ypred are both nparray, y-ypred does element wise SUB\n",
    "    ssres = np.sum((y-ypred)**2)\n",
    "    sstot = np.sum((y-actual_mean)**2)\n",
    "    return 1 - (ssres/sstot)\n",
    "\n",
    "def mean_squared_error(target, pred):\n",
    "    num_of_samples = target.shape[0] # number of samples == number of rows in target_y\n",
    "    return (1/num_of_samples) * np.sum((target-pred)**2)\n",
    "\n",
    "def gradient_descent(X, y, beta, alpha, num_iters):\n",
    "    # For linreg, X is a n by 2 matrix, beta is a 2 by 1 vector, y (actual_target) n by 1 vector, alpha is Float, num_iters is an Int\n",
    "    # beta -> initial guess of beta \n",
    "    ### BEGIN SOLUTION\n",
    "    number_of_samples = X.shape[0]\n",
    "    J_storage = np.zeros((num_iters, 1))\n",
    "    # iterate the grad desc until num_iters\n",
    "    # or, until convergence (other case)\n",
    "    for i in range(num_iters):\n",
    "        # this derivate is derived from the squared error function \n",
    "        # STEP 2\n",
    "        # Y_pred = X x Beta\n",
    "        # diff Y_pred/Beta --> X.T x (X x Beta) \n",
    "        # transpose X and put on the left hand side of matrix mul\n",
    "        derivative_cost_wrt_Beta = (1/number_of_samples) * np.matmul(X.T, (np.matmul(X, beta) - y))\n",
    "        # update beta\n",
    "        # STEP 3\n",
    "        beta = beta - alpha * derivative_cost_wrt_Beta\n",
    "        J_storage[i] = compute_cost(X, y, beta)\n",
    "    ### END SOLUTION\n",
    "    return beta, J_storage\n",
    "\n",
    "def compute_cost(X, y, beta):\n",
    "    # for LinReg: X is n by 2, y is a vector of n elements, beta is 2 by 1\n",
    "    J = 0\n",
    "    ### BEGIN SOLUTION\n",
    "    number_of_samples = X.shape[0]\n",
    "    # Y_pred - Y_actual\n",
    "    # Y_pred = Xb\n",
    "    Y_pred = np.matmul(X, beta)\n",
    "    diff_between_pred_actual_y = Y_pred - y\n",
    "    diff_between_pred_actual_y_sq = np.matmul(diff_between_pred_actual_y.T, diff_between_pred_actual_y)\n",
    "    J = (1/(2*number_of_samples)) * diff_between_pred_actual_y_sq\n",
    "    ### END SOLUTION\n",
    "    # J is an error, it is a scalar, so extract the only element of J that was a numpy array\n",
    "    return J[0][0]\n",
    "\n",
    "def logarithm(df_target, target_name):\n",
    "    ### BEGIN SOLUTION\n",
    "    df_out = df_target.copy()\n",
    "    df_out.loc[:, target_name] = df_target[target_name].apply(lambda x: math.log(x))\n",
    "    ### END SOLUTION\n",
    "    return df_out\n",
    "\n",
    "def predict_num_new_cases(vac_num,population,country):\n",
    "    if country == \"Japan\":\n",
    "        #For Japan\n",
    "        return int(math.exp(-1.92624804*(int(vac_num)/int(population)-1.225269)/0.216455+7.59424472))\n",
    "    elif country == \"India\":\n",
    "        #For India\n",
    "        return int(math.exp(-0.78281369*(int(vac_num)/int(population)-0.404356)/0.205019+10.54177744))\n",
    "    else:\n",
    "        print(\"Please input the correct name of country.\")\n",
    "    \n",
    "    "
   ]
  },
  {
   "cell_type": "markdown",
   "metadata": {},
   "source": [
    "# Splitting data\n",
    "### Target: New Cases\n",
    "### Feature: Total Vaccinations/Total Population"
   ]
  },
  {
   "cell_type": "code",
   "execution_count": 14,
   "metadata": {},
   "outputs": [
    {
     "name": "stdout",
     "output_type": "stream",
     "text": [
      "Beta0 and beta1 is equal to: \n",
      "[[ 59800.81774788]\n",
      " [-42139.46143839]]\n",
      "R2 Coefficient of Determination:\n",
      "0.47027739501595534\n",
      "Mean Squared Error:\n",
      "2357072263.0297494\n"
     ]
    },
    {
     "data": {
      "image/png": "[encoded data removed]",
      "text/plain": [
       "<Figure size 432x288 with 1 Axes>"
      ]
     },
     "metadata": {
      "needs_background": "light"
     },
     "output_type": "display_data"
    }
   ],
   "source": [
    "#Create a new column to contain the data for total_vaccinations/population\n",
    "df_location.loc[:,\"total_vaccinations/population\"] = df_location['total_vaccinations'].div(df_location['population'])\n",
    "\n",
    "#Set features and target\n",
    "features=['total_vaccinations/population']\n",
    "target=['new_cases']\n",
    "df_features,df_target=get_features_targets(df_location,features,target)\n",
    "#myplot = sns.scatterplot(x=\"total_vaccinations/population\", y=\"new_cases\", data=df_location)\n",
    "\n",
    "#Split data into two groups for training and testing\n",
    "df_features_train, df_features_test, df_target_train, df_target_test = split_data(df_features,df_target,random_state=100,test_size=0.3)\n",
    "\n",
    "#Normalize both train and test features\n",
    "df_features_train = normalize_z(df_features_train)\n",
    "df_features_test = normalize_z(df_features_test)\n",
    "\n",
    "X=prepare_feature(df_features_train)\n",
    "target=prepare_target(df_target_train)\n",
    "\n",
    "iterations=1500\n",
    "alpha=0.01\n",
    "beta=np.zeros((2,1))\n",
    "\n",
    "beta,J_storage=gradient_descent(X,target,beta,alpha,iterations)\n",
    "pred=predict(df_features_test,beta)\n",
    "print(\"Beta0 and beta1 is equal to: \")\n",
    "print(beta)\n",
    "plt.scatter(df_features_test, df_target_test)\n",
    "plt.plot(df_features_test, pred, color=\"orange\")\n",
    "\n",
    "the_target = prepare_target(df_target_test)\n",
    "r2= r2_score(the_target, pred)\n",
    "print(\"R2 Coefficient of Determination:\")\n",
    "print(r2)\n",
    "mse = mean_squared_error(the_target, pred)\n",
    "print(\"Mean Squared Error:\")\n",
    "print(mse)"
   ]
  },
  {
   "cell_type": "markdown",
   "metadata": {},
   "source": [
    "# R2 Coefficient of Determination"
   ]
  },
  {
   "cell_type": "code",
   "execution_count": 15,
   "metadata": {},
   "outputs": [
    {
     "name": "stdout",
     "output_type": "stream",
     "text": [
      "0.47027739501595534\n",
      "2357072263.0297494\n"
     ]
    }
   ],
   "source": [
    "the_target = prepare_target(df_target_test)\n",
    "r2= r2_score(the_target, pred)\n",
    "print(r2)\n",
    "mse = mean_squared_error(the_target, pred)\n",
    "print(mse)\n"
   ]
  },
  {
   "cell_type": "markdown",
   "metadata": {},
   "source": [
    "# Improvement\n",
    "#### Using lnY instead of Y, and limited data range for (x>0.8)\n"
   ]
  },
  {
   "cell_type": "code",
   "execution_count": 16,
   "metadata": {},
   "outputs": [
    {
     "name": "stdout",
     "output_type": "stream",
     "text": [
      "Mean:\n",
      "total_vaccinations/population    0.404356\n",
      "dtype: float64\n",
      "Std:\n",
      "total_vaccinations/population    0.205019\n",
      "dtype: float64\n",
      "Beta0 and beta1 is equal to: \n",
      "[[10.54177744]\n",
      " [-0.78281369]]\n",
      "R2 Coefficient of Determination:\n",
      "0.8246703587807211\n",
      "Mean Squared Error:\n",
      "0.12772971386438003\n",
      "Predicted result: 3224\n"
     ]
    },
    {
     "data": {
      "image/png": "[encoded data removed]",
      "text/plain": [
       "<Figure size 432x288 with 1 Axes>"
      ]
     },
     "metadata": {
      "needs_background": "light"
     },
     "output_type": "display_data"
    }
   ],
   "source": [
    "df_location.loc[:,\"total_vaccinations/population\"] = df_location['total_vaccinations'].div(df_location['population'])\n",
    "features=['total_vaccinations/population']\n",
    "target=['new_cases']\n",
    "df_features,df_target=get_features_targets(df_location,features,target)\n",
    "# Try to set the range for x\n",
    "\n",
    "\n",
    "if location =='Japan':\n",
    "    df_features_improved = df_features.loc[df_features[\"total_vaccinations/population\"]>0.8]\n",
    "    #print(df_location.loc[df_location[\"total_vaccinations\"]/df_location[\"population\"]>0.8])\n",
    "else:\n",
    "    df_features_improved = df_features\n",
    "df_target_improved = df_target.loc[set(df_features_improved.index),:]\n",
    "#print(df_features_improved)\n",
    "#myplot = sns.scatterplot(x=\"total_vaccinations/population\", y=\"new_cases\", data=df_location)\n",
    "df_features_train, df_features_test, df_target_train, df_target_test = split_data(df_features_improved,df_target_improved,random_state=100,test_size=0.3)\n",
    "\n",
    "#Apply logarithm to change y to lny\n",
    "df_target_train = logarithm(df_target_train, \"new_cases\")\n",
    "df_target_test = logarithm(df_target_test, \"new_cases\")\n",
    "#print(df_target_train)\n",
    "print(\"Mean:\")\n",
    "print(df_features_train.mean())\n",
    "print(\"Std:\")\n",
    "print(df_features_train.std())\n",
    "#Normalize both train and test features\n",
    "df_features_train = normalize_z(df_features_train)\n",
    "df_features_test = normalize_z(df_features_test)\n",
    "\n",
    "\n",
    "X=prepare_feature(df_features_test)\n",
    "Y=prepare_target(df_target_test)\n",
    "#print(df_target_test)\n",
    "iterations=1500\n",
    "alpha=0.01\n",
    "beta=np.zeros((2,1))\n",
    "\n",
    "beta,J_storage=gradient_descent(X,Y,beta,alpha,iterations)\n",
    "pred=predict(df_features_test,beta)\n",
    "print(\"Beta0 and beta1 is equal to: \")\n",
    "print(beta)\n",
    "\n",
    "\n",
    "plt.scatter(df_features_test, df_target_test)\n",
    "plt.plot(df_features_test, pred, color=\"orange\")\n",
    "the_target = prepare_target(df_target_test)\n",
    "r2= r2_score(the_target, pred)\n",
    "\n",
    "print(\"R2 Coefficient of Determination:\")\n",
    "print(r2)\n",
    "mse = mean_squared_error(the_target, pred)\n",
    "print(\"Mean Squared Error:\")\n",
    "print(mse)\n",
    "\n",
    "print(\"Predicted result: \"+str(predict_num_new_cases(147586692,126050796,\"Japan\")))\n",
    "\n"
   ]
  }
 ],
 "metadata": {
  "kernelspec": {
   "display_name": "Python 3",
   "language": "python",
   "name": "python3"
  },
  "language_info": {
   "codemirror_mode": {
    "name": "ipython",
    "version": 3
   },
   "file_extension": ".py",
   "mimetype": "text/x-python",
   "name": "python",
   "nbconvert_exporter": "python",
   "pygments_lexer": "ipython3",
   "version": "3.8.8"
  }
 },
 "nbformat": 4,
 "nbformat_minor": 4
}
